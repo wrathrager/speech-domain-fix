{
 "cells": [
  {
   "cell_type": "markdown",
   "id": "ca84ec05",
   "metadata": {},
   "source": [
    "# fine-tuning a speech model\n"
   ]
  }
 ],
 "metadata": {
  "language_info": {
   "name": "python"
  }
 },
 "nbformat": 4,
 "nbformat_minor": 5
}
